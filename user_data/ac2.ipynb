{
 "cells": [
  {
   "cell_type": "code",
   "execution_count": 6,
   "id": "3d977dd9-de5a-4f7b-b938-307333aeee18",
   "metadata": {},
   "outputs": [],
   "source": [
    "import os\n",
    "os.environ[\"JAVA_HOME\"] = \"/usr/local/openjdk-8\"\n",
    "os.environ[\"SPARK_HOME\"] = \"/user_data/spark-3.3.0-bin-hadoop2\"\n",
    "\n",
    "import findspark\n",
    "findspark.init('spark-3.3.0-bin-hadoop2')"
   ]
  },
  {
   "cell_type": "code",
   "execution_count": 7,
   "id": "00f41645-7cd9-42df-b97a-8e33155684c8",
   "metadata": {},
   "outputs": [
    {
     "name": "stdout",
     "output_type": "stream",
     "text": [
      "24/04/27 11:54:44 WARN SparkSession: Using an existing Spark session; only runtime SQL configurations will take effect.\n"
     ]
    }
   ],
   "source": [
    "from pyspark.sql import SparkSession\n",
    "from pyspark.ml.feature import VectorAssembler\n",
    "from pyspark.ml.classification import RandomForestClassifier\n",
    "from pyspark.ml import Pipeline\n",
    "from pyspark.ml.evaluation import MulticlassClassificationEvaluator\n",
    "import pyspark.sql.functions as F\n",
    "import matplotlib.pyplot as plt\n",
    "\n",
    "spark = (\n",
    "    SparkSession.builder.appName(\"ac2\")\n",
    "    .config(\"spark.sql.warehouse.dir\", \"hdfs:///user/hive/warehouse\")\n",
    "    .config(\"spark.sql.catalogImplementation\", \"hive\")\n",
    "    .getOrCreate()\n",
    ")"
   ]
  },
  {
   "cell_type": "code",
   "execution_count": 8,
   "id": "db99a0f9-db7e-47e3-909a-0081c7cee3e5",
   "metadata": {},
   "outputs": [
    {
     "name": "stderr",
     "output_type": "stream",
     "text": [
      "[Stage 7:>                                                        (0 + 16) / 16]\r"
     ]
    },
    {
     "name": "stdout",
     "output_type": "stream",
     "text": [
      "Número de linhas no DataFrame: 4078318\n"
     ]
    },
    {
     "name": "stderr",
     "output_type": "stream",
     "text": [
      "                                                                                \r"
     ]
    }
   ],
   "source": [
    "dataframe = spark.read.csv(\"hdfs://spark-master:9000/datasets/flight/Combined_Flights_2022.csv\", header=True, inferSchema=True)\n",
    "use_cols = [\n",
    "    'Month',\n",
    "    'FlightDate',\n",
    "    'Airline',\n",
    "    'Origin',\n",
    "     'Dest',\n",
    "     'Cancelled',\n",
    "     'Diverted',\n",
    "     'CRSDepTime',\n",
    "     'DepTime',\n",
    "     'DepDelayMinutes', \n",
    "     'OriginAirportID',\n",
    "     'OriginStateName',\n",
    "     'DestAirportID',\n",
    "     'DestCityName',\n",
    "     'DestStateName',\n",
    "    'Marketing_Airline_Network',\n",
    "    'ArrDelayMinutes'\n",
    "]\n",
    "dataframe = dataframe.select(*use_cols)\n",
    "lines_count = dataframe.count()\n",
    "print(f\"Número de linhas no DataFrame: {lines_count}\")"
   ]
  },
  {
   "cell_type": "code",
   "execution_count": 9,
   "id": "ebf20fec-dc4a-4b8e-8f1d-d27368a5019b",
   "metadata": {},
   "outputs": [
    {
     "name": "stdout",
     "output_type": "stream",
     "text": [
      "root\n",
      " |-- Month: integer (nullable = true)\n",
      " |-- FlightDate: timestamp (nullable = true)\n",
      " |-- Airline: string (nullable = true)\n",
      " |-- Origin: string (nullable = true)\n",
      " |-- Dest: string (nullable = true)\n",
      " |-- Cancelled: boolean (nullable = true)\n",
      " |-- Diverted: boolean (nullable = true)\n",
      " |-- CRSDepTime: integer (nullable = true)\n",
      " |-- DepTime: double (nullable = true)\n",
      " |-- DepDelayMinutes: double (nullable = true)\n",
      " |-- OriginAirportID: integer (nullable = true)\n",
      " |-- OriginStateName: string (nullable = true)\n",
      " |-- DestAirportID: integer (nullable = true)\n",
      " |-- DestCityName: string (nullable = true)\n",
      " |-- DestStateName: string (nullable = true)\n",
      " |-- Marketing_Airline_Network: string (nullable = true)\n",
      " |-- ArrDelayMinutes: double (nullable = true)\n",
      "\n"
     ]
    }
   ],
   "source": [
    "dataframe.printSchema()"
   ]
  },
  {
   "cell_type": "code",
   "execution_count": 10,
   "id": "6e22009b-ae86-4d9b-aed2-1caefc06e8be",
   "metadata": {},
   "outputs": [],
   "source": [
    "# dataframe.describe().show()"
   ]
  },
  {
   "cell_type": "code",
   "execution_count": 11,
   "id": "c700a320-259a-4270-a209-bfebefd018c1",
   "metadata": {},
   "outputs": [
    {
     "name": "stdout",
     "output_type": "stream",
     "text": [
      "+-----+-------------------+--------------------+------+----+---------+--------+----------+-------+---------------+---------------+---------------+-------------+-------------------+-------------+-------------------------+---------------+\n",
      "|Month|         FlightDate|             Airline|Origin|Dest|Cancelled|Diverted|CRSDepTime|DepTime|DepDelayMinutes|OriginAirportID|OriginStateName|DestAirportID|       DestCityName|DestStateName|Marketing_Airline_Network|ArrDelayMinutes|\n",
      "+-----+-------------------+--------------------+------+----+---------+--------+----------+-------+---------------+---------------+---------------+-------------+-------------------+-------------+-------------------------+---------------+\n",
      "|    4|2022-04-04 00:00:00|Commutair Aka Cha...|   GJT| DEN|    false|   false|      1133| 1123.0|            0.0|          11921|       Colorado|        11292|         Denver, CO|     Colorado|                       UA|            0.0|\n",
      "|    4|2022-04-04 00:00:00|Commutair Aka Cha...|   HRL| IAH|    false|   false|       732|  728.0|            0.0|          12206|          Texas|        12266|        Houston, TX|        Texas|                       UA|            0.0|\n",
      "|    4|2022-04-04 00:00:00|Commutair Aka Cha...|   DRO| DEN|    false|   false|      1529| 1514.0|            0.0|          11413|       Colorado|        11292|         Denver, CO|     Colorado|                       UA|            0.0|\n",
      "|    4|2022-04-04 00:00:00|Commutair Aka Cha...|   IAH| GPT|    false|   false|      1435| 1430.0|            0.0|          12266|          Texas|        11973|Gulfport/Biloxi, MS|  Mississippi|                       UA|            0.0|\n",
      "|    4|2022-04-04 00:00:00|Commutair Aka Cha...|   DRO| DEN|    false|   false|      1135| 1135.0|            0.0|          11413|       Colorado|        11292|         Denver, CO|     Colorado|                       UA|            6.0|\n",
      "+-----+-------------------+--------------------+------+----+---------+--------+----------+-------+---------------+---------------+---------------+-------------+-------------------+-------------+-------------------------+---------------+\n",
      "only showing top 5 rows\n",
      "\n"
     ]
    }
   ],
   "source": [
    "dataframe.show(5)"
   ]
  },
  {
   "cell_type": "markdown",
   "id": "bd43a041-af66-44eb-b28b-33b178256c76",
   "metadata": {},
   "source": [
    "Como o número de células vazias no nosso dataset é de cerca de 3%, o que é uma quantidade baixa, iremos apenas eliminar esses dados, ao invés de tratarmos."
   ]
  },
  {
   "cell_type": "code",
   "execution_count": 12,
   "id": "d74230ec-56f7-4127-8b13-45438453b1ee",
   "metadata": {},
   "outputs": [
    {
     "name": "stderr",
     "output_type": "stream",
     "text": [
      "[Stage 14:>                                                       (0 + 16) / 16]\r"
     ]
    },
    {
     "name": "stdout",
     "output_type": "stream",
     "text": [
      "Porcentagem não nula: 96.72899464926472\n"
     ]
    },
    {
     "name": "stderr",
     "output_type": "stream",
     "text": [
      "                                                                                \r"
     ]
    }
   ],
   "source": [
    "total_count = dataframe.count()\n",
    "not_null_count = dataframe.dropna().count() \n",
    "percentage_not_null = not_null_count * 100 / total_count\n",
    "print(f\"Porcentagem não nula: {percentage_not_null}\")\n",
    "dataframe = dataframe.dropna()"
   ]
  },
  {
   "cell_type": "markdown",
   "id": "d97654f0-8a7a-4c00-83b9-4186626a6458",
   "metadata": {},
   "source": [
    "- Analisando os voos cancelados, foi observado que 3% da base de dados foram cancelados.\n",
    "- O mês de janeiro (1) apresentou a maior quantidade de voos cancelados, em seguida de fevereiro (2) e junho (6)\n",
    "- A companhia áerea AA, seguida da UA e DL apresentaram maior quantidades de voos cancelados."
   ]
  },
  {
   "cell_type": "code",
   "execution_count": null,
   "id": "a6caebf1-0cce-4881-be00-71eeddab67af",
   "metadata": {},
   "outputs": [
    {
     "name": "stderr",
     "output_type": "stream",
     "text": [
      "                                                                                \r"
     ]
    }
   ],
   "source": [
    "# Proporção de voos cancelados\n",
    "cancelled_ratio = (\n",
    "    dataframe.select(\n",
    "        F.count(\n",
    "            F.when(\n",
    "                F.col(\"Cancelled\") == 1, 1\n",
    "            )\n",
    "        )\n",
    "    ).collect()[0][0] / dataframe.count()\n",
    ") * 100\n",
    "\n",
    "print(f\"Proporção de Voos Cancelados: {cancelled_ratio:.2f}%\")\n",
    "\n",
    "# Distribuição de voos cancelados por mês\n",
    "df_cancelado_por_mes = dataframe.groupBy(\"Month\").agg(\n",
    "    F.count(\n",
    "        F.when(\n",
    "            F.col(\"Cancelled\") == 1, 1\n",
    "        )\n",
    "    ).alias(\"Voos cancelados\")\n",
    ").orderBy(\"Month\")\n",
    "df_cancelado_por_mes.show()\n",
    "\n",
    "# Distribuição de voos cancelados por companhia aérea\n",
    "cancelled_by_network = dataframe.groupBy(\"Marketing_Airline_Network\").agg(\n",
    "    F.count(\n",
    "        F.when(\n",
    "            F.col(\"Cancelled\") == 1, 1\n",
    "        )\n",
    "    ).alias(\"Voos cancelados\")\n",
    ").orderBy(\"Voos cancelados\")\n",
    "cancelled_by_network.show()"
   ]
  },
  {
   "cell_type": "markdown",
   "id": "e4495dfc-404a-4776-a6e6-2ce692de35c6",
   "metadata": {},
   "source": [
    "- Analisando o tempo de atraso, foi observado uma média de 15 minutos de atraso.\n",
    "- O mês de julho (7) e junho (6) apresentaram um tempo médio de atraso maior\n",
    "- As companias B6, G4 e F9 apresentaram maior tempo de atraso médio"
   ]
  },
  {
   "cell_type": "code",
   "execution_count": null,
   "id": "c9dab658-861c-4280-a3de-20244289690f",
   "metadata": {},
   "outputs": [],
   "source": [
    "# Tempo médio de atraso (minutos)\n",
    "average_delay = dataframe.select(F.avg(\"ArrDelayMinutes\")).collect()[0][0]\n",
    "print(f\"Tempo Médio de Atraso: {average_delay:.2f} minutos\")\n",
    "\n",
    "# Distribuição de atrasos por mês\n",
    "delay_by_month = dataframe.groupBy(\"Month\").agg(F.avg(\"ArrDelayMinutes\").alias(\"atraso_medio\")).orderBy(\"Month\")\n",
    "delay_by_month.show()\n",
    "\n",
    "# Distribuição de atrasos por companhia aérea\n",
    "delay_by_company = dataframe.groupBy(\"Marketing_Airline_Network\").agg(F.avg(\"ArrDelayMinutes\").alias(\"atraso_medio\")).orderBy(\"atraso_medio\", ascending=False)\n",
    "delay_by_company.show()"
   ]
  },
  {
   "cell_type": "code",
   "execution_count": null,
   "id": "53a7e5fd-590d-45a6-8313-8e4e7e3f97a2",
   "metadata": {},
   "outputs": [],
   "source": [
    "# Apresenta a contagem de atrasos a cada range de 10 minutos\n",
    "dataframe.groupBy(\"ArrDelayMinutes\").agg(F.count(\"*\").alias(\"count\")).orderBy(\"ArrDelayMinutes\").withColumn(\"bin\", F.floor(F.col(\"ArrDelayMinutes\") / 10)).groupBy(\"bin\").agg(F.sum(\"count\").alias(\"count\")).sort(\"bin\").withColumn(\"delay_range\", F.concat(F.col(\"bin\") * 10, F.lit(\" - \"), F.col(\"bin\") * 10 + 9)).show(truncate=False)"
   ]
  },
  {
   "cell_type": "code",
   "execution_count": null,
   "id": "84403287-4850-4d6e-bc67-5c38b4a9c188",
   "metadata": {},
   "outputs": [],
   "source": [
    "import matplotlib.pyplot as plt\n",
    "\n",
    "arr_delay_values = dataframe.select(\"ArrDelayMinutes\").rdd.flatMap(lambda x: x).collect()\n",
    "plt.hist(arr_delay_values, bins=50, color=\"skyblue\", edgecolor=\"black\")\n",
    "plt.xlabel(\"Atraso na chegada\")\n",
    "plt.ylabel(\"Frequência\")\n",
    "plt.title(\"Distribuição de atraso na chegada\")\n",
    "plt.show()"
   ]
  },
  {
   "cell_type": "code",
   "execution_count": null,
   "id": "170c54cf-fdba-4a44-adb3-1a99662a871a",
   "metadata": {},
   "outputs": [],
   "source": [
    "allowed_types = ['int', 'double']\n",
    "\n",
    "# Filtrando colunas com tipos permitidos\n",
    "selected_columns = [col_name for col_name, col_type in dataframe.dtypes if any(data_type in col_type for data_type in allowed_types)]\n",
    "\n",
    "# Selecionando apenas as colunas permitidas\n",
    "df_filtered = dataframe.select(*selected_columns)\n",
    "\n",
    "# Mostrando o esquema do DataFrame resultante\n",
    "df_filtered.printSchema()"
   ]
  },
  {
   "cell_type": "markdown",
   "id": "4ed428a8-6b3f-4ae1-9b41-0b1e0ea12f9e",
   "metadata": {},
   "source": [
    "# Pré processamento"
   ]
  },
  {
   "cell_type": "code",
   "execution_count": null,
   "id": "8899c14f-baec-4458-94a1-4a6edb4684e7",
   "metadata": {},
   "outputs": [],
   "source": [
    "target = \"OriginAirportID\"\n",
    "feature_columns = df_filtered.columns\n",
    "feature_columns.remove(target)\n",
    "vector_assembler = VectorAssembler(inputCols=feature_columns, outputCol=\"features\")\n",
    "df_vector = vector_assembler.transform(df_filtered)"
   ]
  },
  {
   "cell_type": "code",
   "execution_count": null,
   "id": "7bfab1ec-799c-4475-ab20-f6c6b604bc03",
   "metadata": {},
   "outputs": [],
   "source": [
    "# Dividindo o conjunto de dados entre treino e teste\n",
    "train_data, test_data = df_vector.randomSplit(\n",
    "    [0.8, 0.2], # 80% treino e 20% teste\n",
    "    seed=42 # Semente de aleatoriedade\n",
    ")"
   ]
  },
  {
   "cell_type": "markdown",
   "id": "70b72e05-8ef9-46de-9706-3f4edc417496",
   "metadata": {},
   "source": [
    "# Model"
   ]
  },
  {
   "cell_type": "code",
   "execution_count": null,
   "id": "786fad7f-4d7c-4b4b-b438-d057a042ead2",
   "metadata": {},
   "outputs": [],
   "source": [
    "rf_classifier = RandomForestClassifier(labelCol=target, featuresCol=\"features\", numTrees=10)\n",
    "pipeline = Pipeline(stages=[rf_classifier])\n",
    "model = pipeline.fit(train_data)\n",
    "predictions = model.transform(test_data)\n",
    "evaluator = MulticlassClassificationEvaluator(labelCol=\"OriginAirportID\", metricName=\"accuracy\")\n",
    "accuracy = evaluator.evaluate(predictions)\n",
    "print(\"Accuracy:\", accuracy)\n"
   ]
  },
  {
   "cell_type": "code",
   "execution_count": null,
   "id": "3611a782-7042-47b6-828c-3ce78d8fe51b",
   "metadata": {},
   "outputs": [],
   "source": []
  }
 ],
 "metadata": {
  "kernelspec": {
   "display_name": "Python 3 (ipykernel)",
   "language": "python",
   "name": "python3"
  },
  "language_info": {
   "codemirror_mode": {
    "name": "ipython",
    "version": 3
   },
   "file_extension": ".py",
   "mimetype": "text/x-python",
   "name": "python",
   "nbconvert_exporter": "python",
   "pygments_lexer": "ipython3",
   "version": "3.9.2"
  }
 },
 "nbformat": 4,
 "nbformat_minor": 5
}
