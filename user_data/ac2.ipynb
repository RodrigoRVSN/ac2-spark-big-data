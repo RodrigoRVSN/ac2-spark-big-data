{
 "cells": [
  {
   "cell_type": "code",
   "execution_count": 1,
   "id": "3d977dd9-de5a-4f7b-b938-307333aeee18",
   "metadata": {},
   "outputs": [],
   "source": [
    "import os\n",
    "os.environ[\"JAVA_HOME\"] = \"/usr/local/openjdk-8\"\n",
    "os.environ[\"SPARK_HOME\"] = \"/user_data/spark-3.3.0-bin-hadoop2\"\n",
    "\n",
    "import findspark\n",
    "findspark.init('spark-3.3.0-bin-hadoop2')"
   ]
  },
  {
   "cell_type": "code",
   "execution_count": 2,
   "id": "00f41645-7cd9-42df-b97a-8e33155684c8",
   "metadata": {},
   "outputs": [
    {
     "name": "stderr",
     "output_type": "stream",
     "text": [
      "SLF4J: Class path contains multiple SLF4J bindings.\n",
      "SLF4J: Found binding in [jar:file:/user_data/spark-3.3.0-bin-hadoop2/jars/log4j-slf4j-impl-2.17.2.jar!/org/slf4j/impl/StaticLoggerBinder.class]\n",
      "SLF4J: Found binding in [jar:file:/usr/hadoop-2.7.3/share/hadoop/common/lib/slf4j-log4j12-1.7.10.jar!/org/slf4j/impl/StaticLoggerBinder.class]\n",
      "SLF4J: See http://www.slf4j.org/codes.html#multiple_bindings for an explanation.\n",
      "SLF4J: Actual binding is of type [org.apache.logging.slf4j.Log4jLoggerFactory]\n",
      "Setting default log level to \"WARN\".\n",
      "To adjust logging level use sc.setLogLevel(newLevel). For SparkR, use setLogLevel(newLevel).\n"
     ]
    },
    {
     "name": "stdout",
     "output_type": "stream",
     "text": [
      "24/04/27 01:34:30 WARN NativeCodeLoader: Unable to load native-hadoop library for your platform... using builtin-java classes where applicable\n"
     ]
    }
   ],
   "source": [
    "from pyspark.sql import SparkSession\n",
    "from pyspark.ml.feature import VectorAssembler\n",
    "from pyspark.ml.classification import RandomForestClassifier\n",
    "from pyspark.ml import Pipeline\n",
    "from pyspark.ml.evaluation import MulticlassClassificationEvaluator\n",
    "\n",
    "spark = (\n",
    "    SparkSession.builder.appName(\"ac2\")\n",
    "    .config(\"spark.sql.warehouse.dir\", \"hdfs:///user/hive/warehouse\")\n",
    "    .config(\"spark.sql.catalogImplementation\", \"hive\")\n",
    "    .getOrCreate()\n",
    ")"
   ]
  },
  {
   "cell_type": "code",
   "execution_count": 47,
   "id": "db99a0f9-db7e-47e3-909a-0081c7cee3e5",
   "metadata": {},
   "outputs": [
    {
     "name": "stderr",
     "output_type": "stream",
     "text": [
      "[Stage 160:>                                                      (0 + 16) / 16]\r"
     ]
    },
    {
     "name": "stdout",
     "output_type": "stream",
     "text": [
      "Número de linhas no DataFrame: 4078318\n"
     ]
    },
    {
     "name": "stderr",
     "output_type": "stream",
     "text": [
      "                                                                                \r"
     ]
    }
   ],
   "source": [
    "dataframe = spark.read.csv(\"hdfs://spark-master:9000/datasets/flight/Combined_Flights_2022.csv\", header=True, inferSchema=True)\n",
    "use_cols = [\n",
    "    'Month',\n",
    "    'FlightDate',\n",
    "    'Airline',\n",
    "    'Origin',\n",
    "     'Dest',\n",
    "     'Cancelled',\n",
    "     'Diverted',\n",
    "     'CRSDepTime',\n",
    "     'DepTime',\n",
    "     'DepDelayMinutes', \n",
    "     'OriginAirportID',\n",
    "     'OriginStateName',\n",
    "     'DestAirportID',\n",
    "     'DestCityName',\n",
    "     'DestStateName',\n",
    "    'Marketing_Airline_Network',\n",
    "    'ArrDelayMinutes'\n",
    "]\n",
    "dataframe = dataframe.select(*use_cols)\n",
    "lines_count = dataframe.count()\n",
    "print(f\"Número de linhas no DataFrame: {lines_count}\")"
   ]
  },
  {
   "cell_type": "code",
   "execution_count": 22,
   "id": "ebf20fec-dc4a-4b8e-8f1d-d27368a5019b",
   "metadata": {},
   "outputs": [
    {
     "name": "stdout",
     "output_type": "stream",
     "text": [
      "root\n",
      " |-- FlightDate: timestamp (nullable = true)\n",
      " |-- Airline: string (nullable = true)\n",
      " |-- Origin: string (nullable = true)\n",
      " |-- Dest: string (nullable = true)\n",
      " |-- Cancelled: boolean (nullable = true)\n",
      " |-- Diverted: boolean (nullable = true)\n",
      " |-- CRSDepTime: integer (nullable = true)\n",
      " |-- DepTime: double (nullable = true)\n",
      " |-- DepDelayMinutes: double (nullable = true)\n",
      " |-- OriginAirportID: integer (nullable = true)\n",
      " |-- OriginStateName: string (nullable = true)\n",
      " |-- DestAirportID: integer (nullable = true)\n",
      " |-- DestCityName: string (nullable = true)\n",
      " |-- DestStateName: string (nullable = true)\n",
      "\n"
     ]
    }
   ],
   "source": [
    "dataframe.printSchema()"
   ]
  },
  {
   "cell_type": "code",
   "execution_count": 23,
   "id": "c700a320-259a-4270-a209-bfebefd018c1",
   "metadata": {},
   "outputs": [
    {
     "name": "stdout",
     "output_type": "stream",
     "text": [
      "+-------------------+--------------------+------+----+---------+--------+----------+-------+---------------+---------------+---------------+-------------+-------------------+-------------+\n",
      "|         FlightDate|             Airline|Origin|Dest|Cancelled|Diverted|CRSDepTime|DepTime|DepDelayMinutes|OriginAirportID|OriginStateName|DestAirportID|       DestCityName|DestStateName|\n",
      "+-------------------+--------------------+------+----+---------+--------+----------+-------+---------------+---------------+---------------+-------------+-------------------+-------------+\n",
      "|2022-04-04 00:00:00|Commutair Aka Cha...|   GJT| DEN|    false|   false|      1133| 1123.0|            0.0|          11921|       Colorado|        11292|         Denver, CO|     Colorado|\n",
      "|2022-04-04 00:00:00|Commutair Aka Cha...|   HRL| IAH|    false|   false|       732|  728.0|            0.0|          12206|          Texas|        12266|        Houston, TX|        Texas|\n",
      "|2022-04-04 00:00:00|Commutair Aka Cha...|   DRO| DEN|    false|   false|      1529| 1514.0|            0.0|          11413|       Colorado|        11292|         Denver, CO|     Colorado|\n",
      "|2022-04-04 00:00:00|Commutair Aka Cha...|   IAH| GPT|    false|   false|      1435| 1430.0|            0.0|          12266|          Texas|        11973|Gulfport/Biloxi, MS|  Mississippi|\n",
      "|2022-04-04 00:00:00|Commutair Aka Cha...|   DRO| DEN|    false|   false|      1135| 1135.0|            0.0|          11413|       Colorado|        11292|         Denver, CO|     Colorado|\n",
      "+-------------------+--------------------+------+----+---------+--------+----------+-------+---------------+---------------+---------------+-------------+-------------------+-------------+\n",
      "only showing top 5 rows\n",
      "\n"
     ]
    }
   ],
   "source": [
    "dataframe.show(5)"
   ]
  },
  {
   "cell_type": "markdown",
   "id": "bd43a041-af66-44eb-b28b-33b178256c76",
   "metadata": {},
   "source": [
    "Como o número de células vazias no nosso dataset é de cerca de 3%, o que é uma quantidade baixa, iremos apenas eliminar esses dados, ao invés de tratarmos."
   ]
  },
  {
   "cell_type": "code",
   "execution_count": 24,
   "id": "d74230ec-56f7-4127-8b13-45438453b1ee",
   "metadata": {},
   "outputs": [
    {
     "name": "stderr",
     "output_type": "stream",
     "text": [
      "[Stage 40:==========>                                             (3 + 13) / 16]\r"
     ]
    },
    {
     "name": "stdout",
     "output_type": "stream",
     "text": [
      "Porcentagem não nula: 97.04547315829713\n"
     ]
    },
    {
     "name": "stderr",
     "output_type": "stream",
     "text": [
      "                                                                                \r"
     ]
    }
   ],
   "source": [
    "total_count = dataframe.count()\n",
    "not_null_count = dataframe.dropna().count() \n",
    "percentage_not_null = not_null_count * 100 / total_count\n",
    "print(f\"Porcentagem não nula: {percentage_not_null}\")\n",
    "dataframe = dataframe.dropna()"
   ]
  },
  {
   "cell_type": "markdown",
   "id": "d97654f0-8a7a-4c00-83b9-4186626a6458",
   "metadata": {},
   "source": [
    "- Analisando os voos cancelados, foi observado que 3% da base de dados foram cancelados.\n",
    "- O mês de janeiro (1) apresentou a maior quantidade de voos cancelados, em seguida de fevereiro (2) e junho (6)\n",
    "- A companhia áerea AA, seguida da UA e DL apresentaram maior quantidades de voos cancelados."
   ]
  },
  {
   "cell_type": "code",
   "execution_count": 51,
   "id": "a6caebf1-0cce-4881-be00-71eeddab67af",
   "metadata": {},
   "outputs": [
    {
     "name": "stderr",
     "output_type": "stream",
     "text": [
      "                                                                                \r"
     ]
    },
    {
     "name": "stdout",
     "output_type": "stream",
     "text": [
      "Proporção de Voos Cancelados: 3.02%\n"
     ]
    },
    {
     "name": "stderr",
     "output_type": "stream",
     "text": [
      "                                                                                \r"
     ]
    },
    {
     "name": "stdout",
     "output_type": "stream",
     "text": [
      "+-----+---------------+\n",
      "|Month|Voos cancelados|\n",
      "+-----+---------------+\n",
      "|    1|          35667|\n",
      "|    2|          23421|\n",
      "|    3|           9108|\n",
      "|    4|          13397|\n",
      "|    5|          11993|\n",
      "|    6|          18473|\n",
      "|    7|          11133|\n",
      "+-----+---------------+\n",
      "\n"
     ]
    },
    {
     "name": "stderr",
     "output_type": "stream",
     "text": [
      "[Stage 205:============================>                           (8 + 8) / 16]\r"
     ]
    },
    {
     "name": "stdout",
     "output_type": "stream",
     "text": [
      "+-------------------------+---------------+\n",
      "|Marketing_Airline_Network|Voos cancelados|\n",
      "+-------------------------+---------------+\n",
      "|                       HA|            351|\n",
      "|                       F9|           2501|\n",
      "|                       G4|           2891|\n",
      "|                       NK|           4198|\n",
      "|                       AS|           5016|\n",
      "|                       B6|           7631|\n",
      "|                       WN|          18164|\n",
      "|                       DL|          20969|\n",
      "|                       UA|          24705|\n",
      "|                       AA|          36766|\n",
      "+-------------------------+---------------+\n",
      "\n"
     ]
    },
    {
     "name": "stderr",
     "output_type": "stream",
     "text": [
      "                                                                                \r"
     ]
    }
   ],
   "source": [
    "# Proporção de voos cancelados\n",
    "cancelled_ratio = (\n",
    "    dataframe.select(\n",
    "        F.count(\n",
    "            F.when(\n",
    "                F.col(\"Cancelled\") == \"True\", 1\n",
    "            )\n",
    "        )\n",
    "    ).collect()[0][0] / dataframe.count()\n",
    ") * 100\n",
    "\n",
    "print(f\"Proporção de Voos Cancelados: {cancelled_ratio:.2f}%\")\n",
    "\n",
    "# Distribuição de voos cancelados por mês\n",
    "df_cancelado_por_mes = dataframe.groupBy(\"Month\").agg(\n",
    "    F.count(\n",
    "        F.when(\n",
    "            F.col(\"Cancelled\") == \"True\", 1\n",
    "        )\n",
    "    ).alias(\"Voos cancelados\")\n",
    ").orderBy(\"Month\")\n",
    "df_cancelado_por_mes.show()\n",
    "\n",
    "# Distribuição de voos cancelados por companhia aérea\n",
    "cancelled_by_network = dataframe.groupBy(\"Marketing_Airline_Network\").agg(\n",
    "    F.count(\n",
    "        F.when(\n",
    "            F.col(\"Cancelled\") == \"True\", 1\n",
    "        )\n",
    "    ).alias(\"Voos cancelados\")\n",
    ").orderBy(\"Voos cancelados\")\n",
    "cancelled_by_network.show()"
   ]
  },
  {
   "cell_type": "markdown",
   "id": "e4495dfc-404a-4776-a6e6-2ce692de35c6",
   "metadata": {},
   "source": [
    "- Analisando o tempo de atraso, foi observado uma média de 15 minutos de atraso.\n",
    "- O mês de julho (7) e junho (6) apresentaram um tempo médio de atraso maior\n",
    "- As companias B6, G4 e F9 apresentaram maior tempo de atraso médio"
   ]
  },
  {
   "cell_type": "code",
   "execution_count": 52,
   "id": "c9dab658-861c-4280-a3de-20244289690f",
   "metadata": {},
   "outputs": [
    {
     "name": "stderr",
     "output_type": "stream",
     "text": [
      "                                                                                \r"
     ]
    },
    {
     "name": "stdout",
     "output_type": "stream",
     "text": [
      "Tempo Médio de Atraso: 15.78 minutos\n"
     ]
    },
    {
     "name": "stderr",
     "output_type": "stream",
     "text": [
      "                                                                                \r"
     ]
    },
    {
     "name": "stdout",
     "output_type": "stream",
     "text": [
      "+-----+------------------+\n",
      "|Month|      atraso_medio|\n",
      "+-----+------------------+\n",
      "|    1|14.354921483258492|\n",
      "|    2| 14.22176289364896|\n",
      "|    3|15.282290116612899|\n",
      "|    4|15.949220248947393|\n",
      "|    5|15.079478974372895|\n",
      "|    6|17.849852879505566|\n",
      "|    7|17.326682130740213|\n",
      "+-----+------------------+\n",
      "\n"
     ]
    },
    {
     "name": "stderr",
     "output_type": "stream",
     "text": [
      "[Stage 214:================================================>      (14 + 2) / 16]\r"
     ]
    },
    {
     "name": "stdout",
     "output_type": "stream",
     "text": [
      "+-------------------------+------------------+\n",
      "|Marketing_Airline_Network|      atraso_medio|\n",
      "+-------------------------+------------------+\n",
      "|                       B6| 28.37808613922048|\n",
      "|                       G4| 25.35006813149378|\n",
      "|                       F9| 23.98092831430138|\n",
      "|                       NK|19.172122475152293|\n",
      "|                       AA|16.423352661730473|\n",
      "|                       UA|16.016196415089063|\n",
      "|                       WN|13.865528202334586|\n",
      "|                       DL| 13.74481651165211|\n",
      "|                       AS|10.575677971939655|\n",
      "|                       HA|  9.06934315296143|\n",
      "+-------------------------+------------------+\n",
      "\n"
     ]
    },
    {
     "name": "stderr",
     "output_type": "stream",
     "text": [
      "                                                                                \r"
     ]
    }
   ],
   "source": [
    "# Tempo médio de atraso (minutos)\n",
    "average_delay = dataframe.select(F.avg(\"ArrDelayMinutes\")).collect()[0][0]\n",
    "print(f\"Tempo Médio de Atraso: {average_delay:.2f} minutos\")\n",
    "\n",
    "# Distribuição de atrasos por mês\n",
    "delay_by_month = dataframe.groupBy(\"Month\").agg(F.avg(\"ArrDelayMinutes\").alias(\"atraso_medio\")).orderBy(\"Month\")\n",
    "delay_by_month.show()\n",
    "\n",
    "# Distribuição de atrasos por companhia aérea\n",
    "delay_by_company = dataframe.groupBy(\"Marketing_Airline_Network\").agg(F.avg(\"ArrDelayMinutes\").alias(\"atraso_medio\")).orderBy(\"atraso_medio\", ascending=False)\n",
    "delay_by_company.show()"
   ]
  },
  {
   "cell_type": "code",
   "execution_count": 25,
   "id": "170c54cf-fdba-4a44-adb3-1a99662a871a",
   "metadata": {},
   "outputs": [
    {
     "name": "stdout",
     "output_type": "stream",
     "text": [
      "root\n",
      " |-- CRSDepTime: integer (nullable = true)\n",
      " |-- DepTime: double (nullable = true)\n",
      " |-- DepDelayMinutes: double (nullable = true)\n",
      " |-- OriginAirportID: integer (nullable = true)\n",
      " |-- DestAirportID: integer (nullable = true)\n",
      "\n"
     ]
    }
   ],
   "source": [
    "allowed_types = ['int', 'double']\n",
    "\n",
    "# Filtrando colunas com tipos permitidos\n",
    "selected_columns = [col_name for col_name, col_type in dataframe.dtypes if any(data_type in col_type for data_type in allowed_types)]\n",
    "\n",
    "# Selecionando apenas as colunas permitidas\n",
    "df_filtered = dataframe.select(*selected_columns)\n",
    "\n",
    "# Mostrando o esquema do DataFrame resultante\n",
    "df_filtered.printSchema()"
   ]
  },
  {
   "cell_type": "markdown",
   "id": "4ed428a8-6b3f-4ae1-9b41-0b1e0ea12f9e",
   "metadata": {},
   "source": [
    "# Pré processamento"
   ]
  },
  {
   "cell_type": "code",
   "execution_count": 26,
   "id": "8899c14f-baec-4458-94a1-4a6edb4684e7",
   "metadata": {},
   "outputs": [
    {
     "ename": "ValueError",
     "evalue": "list.remove(x): x not in list",
     "output_type": "error",
     "traceback": [
      "\u001b[0;31m---------------------------------------------------------------------------\u001b[0m",
      "\u001b[0;31mValueError\u001b[0m                                Traceback (most recent call last)",
      "Cell \u001b[0;32mIn[26], line 3\u001b[0m\n\u001b[1;32m      1\u001b[0m target \u001b[38;5;241m=\u001b[39m \u001b[38;5;124m\"\u001b[39m\u001b[38;5;124mA\u001b[39m\u001b[38;5;124m\"\u001b[39m\n\u001b[1;32m      2\u001b[0m feature_columns \u001b[38;5;241m=\u001b[39m df_filtered\u001b[38;5;241m.\u001b[39mcolumns\n\u001b[0;32m----> 3\u001b[0m \u001b[43mfeature_columns\u001b[49m\u001b[38;5;241;43m.\u001b[39;49m\u001b[43mremove\u001b[49m\u001b[43m(\u001b[49m\u001b[43mtarget\u001b[49m\u001b[43m)\u001b[49m\n\u001b[1;32m      4\u001b[0m vector_assembler \u001b[38;5;241m=\u001b[39m VectorAssembler(inputCols\u001b[38;5;241m=\u001b[39mfeature_columns, outputCol\u001b[38;5;241m=\u001b[39m\u001b[38;5;124m\"\u001b[39m\u001b[38;5;124mfeatures\u001b[39m\u001b[38;5;124m\"\u001b[39m)\n\u001b[1;32m      5\u001b[0m df_vector \u001b[38;5;241m=\u001b[39m vector_assembler\u001b[38;5;241m.\u001b[39mtransform(df_filtered)\n",
      "\u001b[0;31mValueError\u001b[0m: list.remove(x): x not in list"
     ]
    }
   ],
   "source": [
    "target = \"O\"\n",
    "feature_columns = df_filtered.columns\n",
    "feature_columns.remove(target)\n",
    "vector_assembler = VectorAssembler(inputCols=feature_columns, outputCol=\"features\")\n",
    "df_vector = vector_assembler.transform(df_filtered)"
   ]
  },
  {
   "cell_type": "code",
   "execution_count": null,
   "id": "7bfab1ec-799c-4475-ab20-f6c6b604bc03",
   "metadata": {},
   "outputs": [],
   "source": [
    "# Dividindo o conjunto de dados entre treino e teste\n",
    "train_data, test_data = df_vector.randomSplit(\n",
    "    [0.8, 0.2], # 80% treino e 20% teste\n",
    "    seed=42 # Semente de aleatoriedade\n",
    ")"
   ]
  },
  {
   "cell_type": "markdown",
   "id": "70b72e05-8ef9-46de-9706-3f4edc417496",
   "metadata": {},
   "source": [
    "# Model"
   ]
  },
  {
   "cell_type": "code",
   "execution_count": null,
   "id": "786fad7f-4d7c-4b4b-b438-d057a042ead2",
   "metadata": {},
   "outputs": [],
   "source": [
    "rf_classifier = RandomForestClassifier(labelCol=target, featuresCol=\"features\", numTrees=10)\n",
    "pipeline = Pipeline(stages=[rf_classifier])\n",
    "model = pipeline.fit(train_data)\n",
    "predictions = model.transform(test_data)\n",
    "evaluator = MulticlassClassificationEvaluator(labelCol=\"Severity4\", metricName=\"accuracy\")\n",
    "accuracy = evaluator.evaluate(predictions)\n",
    "print(\"Accuracy:\", accuracy)\n"
   ]
  },
  {
   "cell_type": "code",
   "execution_count": null,
   "id": "3611a782-7042-47b6-828c-3ce78d8fe51b",
   "metadata": {},
   "outputs": [],
   "source": []
  }
 ],
 "metadata": {
  "kernelspec": {
   "display_name": "Python 3 (ipykernel)",
   "language": "python",
   "name": "python3"
  },
  "language_info": {
   "codemirror_mode": {
    "name": "ipython",
    "version": 3
   },
   "file_extension": ".py",
   "mimetype": "text/x-python",
   "name": "python",
   "nbconvert_exporter": "python",
   "pygments_lexer": "ipython3",
   "version": "3.9.2"
  }
 },
 "nbformat": 4,
 "nbformat_minor": 5
}
