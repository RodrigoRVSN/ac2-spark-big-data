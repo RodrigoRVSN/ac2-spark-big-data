{
 "cells": [
  {
   "cell_type": "code",
   "execution_count": 6,
   "id": "3d977dd9-de5a-4f7b-b938-307333aeee18",
   "metadata": {},
   "outputs": [],
   "source": [
    "import os\n",
    "os.environ[\"JAVA_HOME\"] = \"/usr/local/openjdk-8\"\n",
    "os.environ[\"SPARK_HOME\"] = \"/user_data/spark-3.3.0-bin-hadoop2\"\n",
    "\n",
    "import findspark\n",
    "findspark.init('spark-3.3.0-bin-hadoop2')"
   ]
  },
  {
   "cell_type": "code",
   "execution_count": 7,
   "id": "00f41645-7cd9-42df-b97a-8e33155684c8",
   "metadata": {},
   "outputs": [
    {
     "name": "stdout",
     "output_type": "stream",
     "text": [
      "24/04/27 11:54:44 WARN SparkSession: Using an existing Spark session; only runtime SQL configurations will take effect.\n"
     ]
    }
   ],
   "source": [
    "from pyspark.sql import SparkSession\n",
    "from pyspark.ml.feature import VectorAssembler\n",
    "from pyspark.ml.classification import RandomForestClassifier\n",
    "from pyspark.ml import Pipeline\n",
    "from pyspark.ml.evaluation import MulticlassClassificationEvaluator\n",
    "import pyspark.sql.functions as F\n",
    "import matplotlib.pyplot as plt\n",
    "\n",
    "spark = (\n",
    "    SparkSession.builder.appName(\"ac2\")\n",
    "    .config(\"spark.sql.warehouse.dir\", \"hdfs:///user/hive/warehouse\")\n",
    "    .config(\"spark.sql.catalogImplementation\", \"hive\")\n",
    "    .getOrCreate()\n",
    ")"
   ]
  },
  {
   "cell_type": "code",
   "execution_count": 37,
   "id": "db99a0f9-db7e-47e3-909a-0081c7cee3e5",
   "metadata": {},
   "outputs": [
    {
     "name": "stderr",
     "output_type": "stream",
     "text": [
      "[Stage 50:>                                                       (0 + 16) / 16]\r"
     ]
    },
    {
     "name": "stdout",
     "output_type": "stream",
     "text": [
      "Número de linhas no DataFrame: 4078318\n"
     ]
    },
    {
     "name": "stderr",
     "output_type": "stream",
     "text": [
      "                                                                                \r"
     ]
    }
   ],
   "source": [
    "dataframe = spark.read.csv(\"hdfs://spark-master:9000/datasets/flight/Combined_Flights_2022.csv\", header=True, inferSchema=True)\n",
    "use_cols = [\n",
    "    'Month',\n",
    "    'FlightDate',\n",
    "    'Airline',\n",
    "    'Origin',\n",
    "     'Dest',\n",
    "     'Cancelled',\n",
    "     'Diverted',\n",
    "     'CRSDepTime',\n",
    "     'DepTime',\n",
    "     'DepDelayMinutes', \n",
    "     'OriginAirportID',\n",
    "     'OriginStateName',\n",
    "     'DestAirportID',\n",
    "     'DestCityName',\n",
    "     'DestStateName',\n",
    "    'Marketing_Airline_Network',\n",
    "    'ArrDelayMinutes',\n",
    "    'DayOfWeek'\n",
    "]\n",
    "dataframe = dataframe.select(*use_cols)\n",
    "lines_count = dataframe.count()\n",
    "print(f\"Número de linhas no DataFrame: {lines_count}\")"
   ]
  },
  {
   "cell_type": "code",
   "execution_count": 9,
   "id": "ebf20fec-dc4a-4b8e-8f1d-d27368a5019b",
   "metadata": {},
   "outputs": [
    {
     "name": "stdout",
     "output_type": "stream",
     "text": [
      "root\n",
      " |-- Month: integer (nullable = true)\n",
      " |-- FlightDate: timestamp (nullable = true)\n",
      " |-- Airline: string (nullable = true)\n",
      " |-- Origin: string (nullable = true)\n",
      " |-- Dest: string (nullable = true)\n",
      " |-- Cancelled: boolean (nullable = true)\n",
      " |-- Diverted: boolean (nullable = true)\n",
      " |-- CRSDepTime: integer (nullable = true)\n",
      " |-- DepTime: double (nullable = true)\n",
      " |-- DepDelayMinutes: double (nullable = true)\n",
      " |-- OriginAirportID: integer (nullable = true)\n",
      " |-- OriginStateName: string (nullable = true)\n",
      " |-- DestAirportID: integer (nullable = true)\n",
      " |-- DestCityName: string (nullable = true)\n",
      " |-- DestStateName: string (nullable = true)\n",
      " |-- Marketing_Airline_Network: string (nullable = true)\n",
      " |-- ArrDelayMinutes: double (nullable = true)\n",
      "\n"
     ]
    }
   ],
   "source": [
    "dataframe.printSchema()"
   ]
  },
  {
   "cell_type": "code",
   "execution_count": 10,
   "id": "6e22009b-ae86-4d9b-aed2-1caefc06e8be",
   "metadata": {},
   "outputs": [],
   "source": [
    "# dataframe.describe().show()"
   ]
  },
  {
   "cell_type": "code",
   "execution_count": 11,
   "id": "c700a320-259a-4270-a209-bfebefd018c1",
   "metadata": {},
   "outputs": [
    {
     "name": "stdout",
     "output_type": "stream",
     "text": [
      "+-----+-------------------+--------------------+------+----+---------+--------+----------+-------+---------------+---------------+---------------+-------------+-------------------+-------------+-------------------------+---------------+\n",
      "|Month|         FlightDate|             Airline|Origin|Dest|Cancelled|Diverted|CRSDepTime|DepTime|DepDelayMinutes|OriginAirportID|OriginStateName|DestAirportID|       DestCityName|DestStateName|Marketing_Airline_Network|ArrDelayMinutes|\n",
      "+-----+-------------------+--------------------+------+----+---------+--------+----------+-------+---------------+---------------+---------------+-------------+-------------------+-------------+-------------------------+---------------+\n",
      "|    4|2022-04-04 00:00:00|Commutair Aka Cha...|   GJT| DEN|    false|   false|      1133| 1123.0|            0.0|          11921|       Colorado|        11292|         Denver, CO|     Colorado|                       UA|            0.0|\n",
      "|    4|2022-04-04 00:00:00|Commutair Aka Cha...|   HRL| IAH|    false|   false|       732|  728.0|            0.0|          12206|          Texas|        12266|        Houston, TX|        Texas|                       UA|            0.0|\n",
      "|    4|2022-04-04 00:00:00|Commutair Aka Cha...|   DRO| DEN|    false|   false|      1529| 1514.0|            0.0|          11413|       Colorado|        11292|         Denver, CO|     Colorado|                       UA|            0.0|\n",
      "|    4|2022-04-04 00:00:00|Commutair Aka Cha...|   IAH| GPT|    false|   false|      1435| 1430.0|            0.0|          12266|          Texas|        11973|Gulfport/Biloxi, MS|  Mississippi|                       UA|            0.0|\n",
      "|    4|2022-04-04 00:00:00|Commutair Aka Cha...|   DRO| DEN|    false|   false|      1135| 1135.0|            0.0|          11413|       Colorado|        11292|         Denver, CO|     Colorado|                       UA|            6.0|\n",
      "+-----+-------------------+--------------------+------+----+---------+--------+----------+-------+---------------+---------------+---------------+-------------+-------------------+-------------+-------------------------+---------------+\n",
      "only showing top 5 rows\n",
      "\n"
     ]
    }
   ],
   "source": [
    "dataframe.show(5)"
   ]
  },
  {
   "cell_type": "markdown",
   "id": "d97654f0-8a7a-4c00-83b9-4186626a6458",
   "metadata": {},
   "source": [
    "- Analisando os voos cancelados, foi observado que 3% da base de dados foram cancelados.\n",
    "- O mês de janeiro (1) apresentou a maior quantidade de voos cancelados, em seguida de fevereiro (2) e junho (6)\n",
    "- A companhia áerea AA, seguida da UA e DL apresentaram maior quantidades de voos cancelados."
   ]
  },
  {
   "cell_type": "code",
   "execution_count": 46,
   "id": "a6caebf1-0cce-4881-be00-71eeddab67af",
   "metadata": {},
   "outputs": [
    {
     "name": "stderr",
     "output_type": "stream",
     "text": [
      "                                                                                \r"
     ]
    },
    {
     "name": "stdout",
     "output_type": "stream",
     "text": [
      "Proporção de Voos Cancelados: 3.02%\n"
     ]
    },
    {
     "name": "stderr",
     "output_type": "stream",
     "text": [
      "                                                                                \r"
     ]
    },
    {
     "name": "stdout",
     "output_type": "stream",
     "text": [
      "+-----+---------------+\n",
      "|Month|Voos cancelados|\n",
      "+-----+---------------+\n",
      "|    1|          35667|\n",
      "|    2|          23421|\n",
      "|    3|           9108|\n",
      "|    4|          13397|\n",
      "|    5|          11993|\n",
      "|    6|          18473|\n",
      "|    7|          11133|\n",
      "+-----+---------------+\n",
      "\n"
     ]
    },
    {
     "name": "stderr",
     "output_type": "stream",
     "text": [
      "[Stage 90:>                                                       (0 + 16) / 16]\r"
     ]
    },
    {
     "name": "stdout",
     "output_type": "stream",
     "text": [
      "+-------------------------+---------------+\n",
      "|Marketing_Airline_Network|Voos cancelados|\n",
      "+-------------------------+---------------+\n",
      "|                       HA|            351|\n",
      "|                       F9|           2501|\n",
      "|                       G4|           2891|\n",
      "|                       NK|           4198|\n",
      "|                       AS|           5016|\n",
      "|                       B6|           7631|\n",
      "|                       WN|          18164|\n",
      "|                       DL|          20969|\n",
      "|                       UA|          24705|\n",
      "|                       AA|          36766|\n",
      "+-------------------------+---------------+\n",
      "\n"
     ]
    },
    {
     "name": "stderr",
     "output_type": "stream",
     "text": [
      "                                                                                \r"
     ]
    }
   ],
   "source": [
    "# Proporção de voos cancelados\n",
    "cancelled_ratio = (\n",
    "    dataframe.select(\n",
    "        F.count(\n",
    "            F.when(\n",
    "                F.col(\"Cancelled\") == 1, 1\n",
    "            )\n",
    "        )\n",
    "    ).collect()[0][0] / dataframe.count()\n",
    ") * 100\n",
    "\n",
    "print(f\"Proporção de Voos Cancelados: {cancelled_ratio:.2f}%\")\n",
    "\n",
    "# Distribuição de voos cancelados por mês\n",
    "df_cancelado_por_mes = dataframe.groupBy(\"Month\").agg(\n",
    "    F.count(\n",
    "        F.when(\n",
    "            F.col(\"Cancelled\") == 1, 1\n",
    "        )\n",
    "    ).alias(\"Voos cancelados\")\n",
    ").orderBy(\"Month\")\n",
    "df_cancelado_por_mes.show()\n",
    "\n",
    "# Distribuição de voos cancelados por companhia aérea\n",
    "cancelled_by_network = dataframe.groupBy(\"Marketing_Airline_Network\").agg(\n",
    "    F.count(\n",
    "        F.when(\n",
    "            F.col(\"Cancelled\") == 1, 1\n",
    "        )\n",
    "    ).alias(\"Voos cancelados\")\n",
    ").orderBy(\"Voos cancelados\")\n",
    "cancelled_by_network.show()"
   ]
  },
  {
   "cell_type": "markdown",
   "id": "bd43a041-af66-44eb-b28b-33b178256c76",
   "metadata": {},
   "source": [
    "Como o número de células vazias no nosso dataset é de cerca de 3%, o que é uma quantidade baixa, iremos apenas eliminar esses dados, ao invés de tratarmos. \n",
    "Uma observação é que uma boa parte desses valores nulos encontrados nas colunas, percentem a vôos cancelados, como o tempo de atraso, que são nulos por conta da viagem não ter ocorrido. Como iremos focar na previsão do tempo de atraso e não na previsão de dados cancelados, iremos remover essa porcentagem de valores nulos. \n",
    "Vale lembrar que se o foco fosse na previsão de vôos cancelados, a base iria estar bem desequilibrada, por conta de ter apenas 3% de cancelamentos para treinar o modelo de predição, em que deveriamos considerar outra base de dados, ou até mesmo preencher os valores nulos, o que resultaria em predições viciadas dada a proporção."
   ]
  },
  {
   "cell_type": "code",
   "execution_count": 12,
   "id": "d74230ec-56f7-4127-8b13-45438453b1ee",
   "metadata": {},
   "outputs": [
    {
     "name": "stderr",
     "output_type": "stream",
     "text": [
      "[Stage 14:>                                                       (0 + 16) / 16]\r"
     ]
    },
    {
     "name": "stdout",
     "output_type": "stream",
     "text": [
      "Porcentagem não nula: 96.72899464926472\n"
     ]
    },
    {
     "name": "stderr",
     "output_type": "stream",
     "text": [
      "                                                                                \r"
     ]
    }
   ],
   "source": [
    "total_count = dataframe.count()\n",
    "not_null_count = dataframe.dropna().count() \n",
    "percentage_not_null = not_null_count * 100 / total_count\n",
    "print(f\"Porcentagem não nula: {percentage_not_null}\")\n",
    "dataframe = dataframe.dropna()"
   ]
  },
  {
   "cell_type": "markdown",
   "id": "e4495dfc-404a-4776-a6e6-2ce692de35c6",
   "metadata": {},
   "source": [
    "- Analisando o tempo de atraso, foi observado uma média de 15 minutos de atraso.\n",
    "- O mês de julho (7) e junho (6) apresentaram um tempo médio de atraso maior\n",
    "- As companias B6, G4 e F9 apresentaram maior tempo de atraso médio"
   ]
  },
  {
   "cell_type": "code",
   "execution_count": 14,
   "id": "c9dab658-861c-4280-a3de-20244289690f",
   "metadata": {},
   "outputs": [
    {
     "name": "stderr",
     "output_type": "stream",
     "text": [
      "                                                                                \r"
     ]
    },
    {
     "name": "stdout",
     "output_type": "stream",
     "text": [
      "Tempo Médio de Atraso: 15.78 minutos\n"
     ]
    },
    {
     "name": "stderr",
     "output_type": "stream",
     "text": [
      "                                                                                \r"
     ]
    },
    {
     "name": "stdout",
     "output_type": "stream",
     "text": [
      "+-----+------------------+\n",
      "|Month|      atraso_medio|\n",
      "+-----+------------------+\n",
      "|    1|14.354921483258492|\n",
      "|    2| 14.22176289364896|\n",
      "|    3|15.282290116612899|\n",
      "|    4|15.949220248947393|\n",
      "|    5|15.079478974372895|\n",
      "|    6|17.849852879505566|\n",
      "|    7|17.326682130740213|\n",
      "+-----+------------------+\n",
      "\n"
     ]
    },
    {
     "name": "stderr",
     "output_type": "stream",
     "text": [
      "[Stage 35:=================================================>      (14 + 2) / 16]\r"
     ]
    },
    {
     "name": "stdout",
     "output_type": "stream",
     "text": [
      "+-------------------------+------------------+\n",
      "|Marketing_Airline_Network|      atraso_medio|\n",
      "+-------------------------+------------------+\n",
      "|                       B6| 28.37808613922048|\n",
      "|                       G4| 25.35006813149378|\n",
      "|                       F9| 23.98092831430138|\n",
      "|                       NK|19.172122475152293|\n",
      "|                       AA|16.423352661730473|\n",
      "|                       UA|16.016196415089063|\n",
      "|                       WN|13.865528202334586|\n",
      "|                       DL| 13.74481651165211|\n",
      "|                       AS|10.575677971939655|\n",
      "|                       HA|  9.06934315296143|\n",
      "+-------------------------+------------------+\n",
      "\n"
     ]
    },
    {
     "name": "stderr",
     "output_type": "stream",
     "text": [
      "                                                                                \r"
     ]
    }
   ],
   "source": [
    "# Tempo médio de atraso (minutos)\n",
    "average_delay = dataframe.select(F.avg(\"ArrDelayMinutes\")).collect()[0][0]\n",
    "print(f\"Tempo Médio de Atraso: {average_delay:.2f} minutos\")\n",
    "\n",
    "# Distribuição de atrasos por mês\n",
    "delay_by_month = dataframe.groupBy(\"Month\").agg(F.avg(\"ArrDelayMinutes\").alias(\"atraso_medio\")).orderBy(\"Month\")\n",
    "delay_by_month.show()\n",
    "\n",
    "# Distribuição de atrasos por companhia aérea\n",
    "delay_by_company = dataframe.groupBy(\"Marketing_Airline_Network\").agg(F.avg(\"ArrDelayMinutes\").alias(\"atraso_medio\")).orderBy(\"atraso_medio\", ascending=False)\n",
    "delay_by_company.show()"
   ]
  },
  {
   "cell_type": "code",
   "execution_count": 15,
   "id": "53a7e5fd-590d-45a6-8313-8e4e7e3f97a2",
   "metadata": {},
   "outputs": [
    {
     "name": "stderr",
     "output_type": "stream",
     "text": [
      "[Stage 38:============================>                            (8 + 8) / 16]\r"
     ]
    },
    {
     "name": "stdout",
     "output_type": "stream",
     "text": [
      "+---+-------+-----------+\n",
      "|bin|count  |delay_range|\n",
      "+---+-------+-----------+\n",
      "|0  |2925045|0 - 9      |\n",
      "|1  |291309 |10 - 19    |\n",
      "|2  |175819 |20 - 29    |\n",
      "|3  |116959 |30 - 39    |\n",
      "|4  |82921  |40 - 49    |\n",
      "|5  |61855  |50 - 59    |\n",
      "|6  |47347  |60 - 69    |\n",
      "|7  |38017  |70 - 79    |\n",
      "|8  |30520  |80 - 89    |\n",
      "|9  |25074  |90 - 99    |\n",
      "|10 |20470  |100 - 109  |\n",
      "|11 |17396  |110 - 119  |\n",
      "|12 |14637  |120 - 129  |\n",
      "|13 |12361  |130 - 139  |\n",
      "|14 |10528  |140 - 149  |\n",
      "|15 |8925   |150 - 159  |\n",
      "|16 |7603   |160 - 169  |\n",
      "|17 |6482   |170 - 179  |\n",
      "|18 |5555   |180 - 189  |\n",
      "|19 |4936   |190 - 199  |\n",
      "+---+-------+-----------+\n",
      "only showing top 20 rows\n",
      "\n"
     ]
    },
    {
     "name": "stderr",
     "output_type": "stream",
     "text": [
      "                                                                                \r"
     ]
    }
   ],
   "source": [
    "# Apresenta a contagem de atrasos a cada range de 10 minutos\n",
    "dataframe.groupBy(\"ArrDelayMinutes\").agg(F.count(\"*\").alias(\"count\")).orderBy(\"ArrDelayMinutes\").withColumn(\"bin\", F.floor(F.col(\"ArrDelayMinutes\") / 10)).groupBy(\"bin\").agg(F.sum(\"count\").alias(\"count\")).sort(\"bin\").withColumn(\"delay_range\", F.concat(F.col(\"bin\") * 10, F.lit(\" - \"), F.col(\"bin\") * 10 + 9)).show(truncate=False)"
   ]
  },
  {
   "cell_type": "code",
   "execution_count": 16,
   "id": "84403287-4850-4d6e-bc67-5c38b4a9c188",
   "metadata": {},
   "outputs": [
    {
     "name": "stderr",
     "output_type": "stream",
     "text": [
      "                                                                                \r"
     ]
    },
    {
     "data": {
      "image/png": "[encoded data removed]",
      "text/plain": [
       "<Figure size 640x480 with 1 Axes>"
      ]
     },
     "metadata": {},
     "output_type": "display_data"
    }
   ],
   "source": [
    "arr_delay_values = dataframe.select(\"ArrDelayMinutes\").rdd.flatMap(lambda x: x).collect()\n",
    "plt.hist(arr_delay_values, bins=50, color=\"skyblue\", edgecolor=\"black\")\n",
    "plt.xlabel(\"Atraso na chegada\")\n",
    "plt.ylabel(\"Frequência\")\n",
    "plt.title(\"Distribuição de atraso na chegada\")\n",
    "plt.show()"
   ]
  },
  {
   "cell_type": "code",
   "execution_count": 45,
   "id": "2c44f30e-0255-49f2-a720-78643444cf9c",
   "metadata": {},
   "outputs": [
    {
     "name": "stdout",
     "output_type": "stream",
     "text": [
      "\n",
      " Atraso medio por dia da semana:\n"
     ]
    },
    {
     "name": "stderr",
     "output_type": "stream",
     "text": [
      "[Stage 78:=======>                                                (2 + 14) / 16]\r"
     ]
    },
    {
     "name": "stdout",
     "output_type": "stream",
     "text": [
      "+---------+------------------+\n",
      "|DayOfWeek|         avg_delay|\n",
      "+---------+------------------+\n",
      "|        1| 15.74601072509473|\n",
      "|        2|11.869317071120992|\n",
      "|        3|12.726657243841833|\n",
      "|        4|16.852069657735345|\n",
      "|        5|18.470271691679443|\n",
      "|        6| 17.33519092649646|\n",
      "|        7| 17.26704135159071|\n",
      "+---------+------------------+\n",
      "\n"
     ]
    },
    {
     "name": "stderr",
     "output_type": "stream",
     "text": [
      "                                                                                \r"
     ]
    }
   ],
   "source": [
    "# Group delays by DayOfWeek\n",
    "delay_by_day = dataframe.groupBy(\"DayOfWeek\").agg(F.avg(\"ArrDelayMinutes\").alias(\"avg_delay\")).orderBy(\"DayOfWeek\")\n",
    "print(\"\\n Atraso medio por dia da semana:\")\n",
    "delay_by_day.show()"
   ]
  },
  {
   "cell_type": "code",
   "execution_count": null,
   "id": "29c477b6-b67a-4132-ab90-4e1bdcc49774",
   "metadata": {},
   "outputs": [],
   "source": []
  },
  {
   "cell_type": "code",
   "execution_count": 17,
   "id": "170c54cf-fdba-4a44-adb3-1a99662a871a",
   "metadata": {},
   "outputs": [
    {
     "name": "stdout",
     "output_type": "stream",
     "text": [
      "root\n",
      " |-- Month: integer (nullable = true)\n",
      " |-- CRSDepTime: integer (nullable = true)\n",
      " |-- DepTime: double (nullable = true)\n",
      " |-- DepDelayMinutes: double (nullable = true)\n",
      " |-- OriginAirportID: integer (nullable = true)\n",
      " |-- DestAirportID: integer (nullable = true)\n",
      " |-- ArrDelayMinutes: double (nullable = true)\n",
      "\n"
     ]
    }
   ],
   "source": [
    "allowed_types = ['int', 'double']\n",
    "\n",
    "# Filtrando colunas com tipos permitidos\n",
    "selected_columns = [col_name for col_name, col_type in dataframe.dtypes if any(data_type in col_type for data_type in allowed_types)]\n",
    "\n",
    "# Selecionando apenas as colunas permitidas\n",
    "df_filtered = dataframe.select(*selected_columns)\n",
    "\n",
    "# Mostrando o esquema do DataFrame resultante\n",
    "df_filtered.printSchema()"
   ]
  },
  {
   "cell_type": "markdown",
   "id": "4ed428a8-6b3f-4ae1-9b41-0b1e0ea12f9e",
   "metadata": {},
   "source": [
    "# Pré processamento"
   ]
  },
  {
   "cell_type": "code",
   "execution_count": 18,
   "id": "8899c14f-baec-4458-94a1-4a6edb4684e7",
   "metadata": {},
   "outputs": [],
   "source": [
    "target = \"OriginAirportID\"\n",
    "feature_columns = df_filtered.columns\n",
    "feature_columns.remove(target)\n",
    "vector_assembler = VectorAssembler(inputCols=feature_columns, outputCol=\"features\")\n",
    "df_vector = vector_assembler.transform(df_filtered)"
   ]
  },
  {
   "cell_type": "code",
   "execution_count": 19,
   "id": "7bfab1ec-799c-4475-ab20-f6c6b604bc03",
   "metadata": {},
   "outputs": [],
   "source": [
    "# Dividindo o conjunto de dados entre treino e teste\n",
    "train_data, test_data = df_vector.randomSplit(\n",
    "    [0.8, 0.2], # 80% treino e 20% teste\n",
    "    seed=42 # Semente de aleatoriedade\n",
    ")"
   ]
  },
  {
   "cell_type": "markdown",
   "id": "70b72e05-8ef9-46de-9706-3f4edc417496",
   "metadata": {},
   "source": [
    "# Model"
   ]
  },
  {
   "cell_type": "code",
   "execution_count": 20,
   "id": "786fad7f-4d7c-4b4b-b438-d057a042ead2",
   "metadata": {},
   "outputs": [
    {
     "name": "stderr",
     "output_type": "stream",
     "text": [
      "                                                                                \r"
     ]
    },
    {
     "name": "stdout",
     "output_type": "stream",
     "text": [
      "24/04/27 11:56:25 ERROR Instrumentation: java.lang.IllegalArgumentException: requirement failed: Classifier inferred 16870 from label values in column RandomForestClassifier_f88be10b29b2__labelCol, but this exceeded the max numClasses (100) allowed to be inferred from values.  To avoid this error for labels with > 100 classes, specify numClasses explicitly in the metadata; this can be done by applying StringIndexer to the label column.\n",
      "\tat scala.Predef$.require(Predef.scala:281)\n",
      "\tat org.apache.spark.ml.classification.Classifier.getNumClasses(Classifier.scala:157)\n",
      "\tat org.apache.spark.ml.classification.RandomForestClassifier.$anonfun$train$1(RandomForestClassifier.scala:143)\n",
      "\tat org.apache.spark.ml.util.Instrumentation$.$anonfun$instrumented$1(Instrumentation.scala:191)\n",
      "\tat scala.util.Try$.apply(Try.scala:213)\n",
      "\tat org.apache.spark.ml.util.Instrumentation$.instrumented(Instrumentation.scala:191)\n",
      "\tat org.apache.spark.ml.classification.RandomForestClassifier.train(RandomForestClassifier.scala:138)\n",
      "\tat org.apache.spark.ml.classification.RandomForestClassifier.train(RandomForestClassifier.scala:46)\n",
      "\tat org.apache.spark.ml.Predictor.fit(Predictor.scala:151)\n",
      "\tat sun.reflect.NativeMethodAccessorImpl.invoke0(Native Method)\n",
      "\tat sun.reflect.NativeMethodAccessorImpl.invoke(NativeMethodAccessorImpl.java:62)\n",
      "\tat sun.reflect.DelegatingMethodAccessorImpl.invoke(DelegatingMethodAccessorImpl.java:43)\n",
      "\tat java.lang.reflect.Method.invoke(Method.java:498)\n",
      "\tat py4j.reflection.MethodInvoker.invoke(MethodInvoker.java:244)\n",
      "\tat py4j.reflection.ReflectionEngine.invoke(ReflectionEngine.java:357)\n",
      "\tat py4j.Gateway.invoke(Gateway.java:282)\n",
      "\tat py4j.commands.AbstractCommand.invokeMethod(AbstractCommand.java:132)\n",
      "\tat py4j.commands.CallCommand.execute(CallCommand.java:79)\n",
      "\tat py4j.ClientServerConnection.waitForCommands(ClientServerConnection.java:182)\n",
      "\tat py4j.ClientServerConnection.run(ClientServerConnection.java:106)\n",
      "\tat java.lang.Thread.run(Thread.java:750)\n",
      "\n"
     ]
    },
    {
     "ename": "IllegalArgumentException",
     "evalue": "requirement failed: Classifier inferred 16870 from label values in column RandomForestClassifier_f88be10b29b2__labelCol, but this exceeded the max numClasses (100) allowed to be inferred from values.  To avoid this error for labels with > 100 classes, specify numClasses explicitly in the metadata; this can be done by applying StringIndexer to the label column.",
     "output_type": "error",
     "traceback": [
      "\u001b[0;31m---------------------------------------------------------------------------\u001b[0m",
      "\u001b[0;31mIllegalArgumentException\u001b[0m                  Traceback (most recent call last)",
      "Cell \u001b[0;32mIn[20], line 3\u001b[0m\n\u001b[1;32m      1\u001b[0m rf_classifier \u001b[38;5;241m=\u001b[39m RandomForestClassifier(labelCol\u001b[38;5;241m=\u001b[39mtarget, featuresCol\u001b[38;5;241m=\u001b[39m\u001b[38;5;124m\"\u001b[39m\u001b[38;5;124mfeatures\u001b[39m\u001b[38;5;124m\"\u001b[39m, numTrees\u001b[38;5;241m=\u001b[39m\u001b[38;5;241m10\u001b[39m)\n\u001b[1;32m      2\u001b[0m pipeline \u001b[38;5;241m=\u001b[39m Pipeline(stages\u001b[38;5;241m=\u001b[39m[rf_classifier])\n\u001b[0;32m----> 3\u001b[0m model \u001b[38;5;241m=\u001b[39m \u001b[43mpipeline\u001b[49m\u001b[38;5;241;43m.\u001b[39;49m\u001b[43mfit\u001b[49m\u001b[43m(\u001b[49m\u001b[43mtrain_data\u001b[49m\u001b[43m)\u001b[49m\n\u001b[1;32m      4\u001b[0m predictions \u001b[38;5;241m=\u001b[39m model\u001b[38;5;241m.\u001b[39mtransform(test_data)\n\u001b[1;32m      5\u001b[0m evaluator \u001b[38;5;241m=\u001b[39m MulticlassClassificationEvaluator(labelCol\u001b[38;5;241m=\u001b[39m\u001b[38;5;124m\"\u001b[39m\u001b[38;5;124mOriginAirportID\u001b[39m\u001b[38;5;124m\"\u001b[39m, metricName\u001b[38;5;241m=\u001b[39m\u001b[38;5;124m\"\u001b[39m\u001b[38;5;124maccuracy\u001b[39m\u001b[38;5;124m\"\u001b[39m)\n",
      "File \u001b[0;32m/user_data/spark-3.3.0-bin-hadoop2/python/pyspark/ml/base.py:205\u001b[0m, in \u001b[0;36mEstimator.fit\u001b[0;34m(self, dataset, params)\u001b[0m\n\u001b[1;32m    203\u001b[0m         \u001b[38;5;28;01mreturn\u001b[39;00m \u001b[38;5;28mself\u001b[39m\u001b[38;5;241m.\u001b[39mcopy(params)\u001b[38;5;241m.\u001b[39m_fit(dataset)\n\u001b[1;32m    204\u001b[0m     \u001b[38;5;28;01melse\u001b[39;00m:\n\u001b[0;32m--> 205\u001b[0m         \u001b[38;5;28;01mreturn\u001b[39;00m \u001b[38;5;28;43mself\u001b[39;49m\u001b[38;5;241;43m.\u001b[39;49m\u001b[43m_fit\u001b[49m\u001b[43m(\u001b[49m\u001b[43mdataset\u001b[49m\u001b[43m)\u001b[49m\n\u001b[1;32m    206\u001b[0m \u001b[38;5;28;01melse\u001b[39;00m:\n\u001b[1;32m    207\u001b[0m     \u001b[38;5;28;01mraise\u001b[39;00m \u001b[38;5;167;01mTypeError\u001b[39;00m(\n\u001b[1;32m    208\u001b[0m         \u001b[38;5;124m\"\u001b[39m\u001b[38;5;124mParams must be either a param map or a list/tuple of param maps, \u001b[39m\u001b[38;5;124m\"\u001b[39m\n\u001b[1;32m    209\u001b[0m         \u001b[38;5;124m\"\u001b[39m\u001b[38;5;124mbut got \u001b[39m\u001b[38;5;132;01m%s\u001b[39;00m\u001b[38;5;124m.\u001b[39m\u001b[38;5;124m\"\u001b[39m \u001b[38;5;241m%\u001b[39m \u001b[38;5;28mtype\u001b[39m(params)\n\u001b[1;32m    210\u001b[0m     )\n",
      "File \u001b[0;32m/user_data/spark-3.3.0-bin-hadoop2/python/pyspark/ml/pipeline.py:134\u001b[0m, in \u001b[0;36mPipeline._fit\u001b[0;34m(self, dataset)\u001b[0m\n\u001b[1;32m    132\u001b[0m     dataset \u001b[38;5;241m=\u001b[39m stage\u001b[38;5;241m.\u001b[39mtransform(dataset)\n\u001b[1;32m    133\u001b[0m \u001b[38;5;28;01melse\u001b[39;00m:  \u001b[38;5;66;03m# must be an Estimator\u001b[39;00m\n\u001b[0;32m--> 134\u001b[0m     model \u001b[38;5;241m=\u001b[39m \u001b[43mstage\u001b[49m\u001b[38;5;241;43m.\u001b[39;49m\u001b[43mfit\u001b[49m\u001b[43m(\u001b[49m\u001b[43mdataset\u001b[49m\u001b[43m)\u001b[49m\n\u001b[1;32m    135\u001b[0m     transformers\u001b[38;5;241m.\u001b[39mappend(model)\n\u001b[1;32m    136\u001b[0m     \u001b[38;5;28;01mif\u001b[39;00m i \u001b[38;5;241m<\u001b[39m indexOfLastEstimator:\n",
      "File \u001b[0;32m/user_data/spark-3.3.0-bin-hadoop2/python/pyspark/ml/base.py:205\u001b[0m, in \u001b[0;36mEstimator.fit\u001b[0;34m(self, dataset, params)\u001b[0m\n\u001b[1;32m    203\u001b[0m         \u001b[38;5;28;01mreturn\u001b[39;00m \u001b[38;5;28mself\u001b[39m\u001b[38;5;241m.\u001b[39mcopy(params)\u001b[38;5;241m.\u001b[39m_fit(dataset)\n\u001b[1;32m    204\u001b[0m     \u001b[38;5;28;01melse\u001b[39;00m:\n\u001b[0;32m--> 205\u001b[0m         \u001b[38;5;28;01mreturn\u001b[39;00m \u001b[38;5;28;43mself\u001b[39;49m\u001b[38;5;241;43m.\u001b[39;49m\u001b[43m_fit\u001b[49m\u001b[43m(\u001b[49m\u001b[43mdataset\u001b[49m\u001b[43m)\u001b[49m\n\u001b[1;32m    206\u001b[0m \u001b[38;5;28;01melse\u001b[39;00m:\n\u001b[1;32m    207\u001b[0m     \u001b[38;5;28;01mraise\u001b[39;00m \u001b[38;5;167;01mTypeError\u001b[39;00m(\n\u001b[1;32m    208\u001b[0m         \u001b[38;5;124m\"\u001b[39m\u001b[38;5;124mParams must be either a param map or a list/tuple of param maps, \u001b[39m\u001b[38;5;124m\"\u001b[39m\n\u001b[1;32m    209\u001b[0m         \u001b[38;5;124m\"\u001b[39m\u001b[38;5;124mbut got \u001b[39m\u001b[38;5;132;01m%s\u001b[39;00m\u001b[38;5;124m.\u001b[39m\u001b[38;5;124m\"\u001b[39m \u001b[38;5;241m%\u001b[39m \u001b[38;5;28mtype\u001b[39m(params)\n\u001b[1;32m    210\u001b[0m     )\n",
      "File \u001b[0;32m/user_data/spark-3.3.0-bin-hadoop2/python/pyspark/ml/wrapper.py:379\u001b[0m, in \u001b[0;36mJavaEstimator._fit\u001b[0;34m(self, dataset)\u001b[0m\n\u001b[1;32m    378\u001b[0m \u001b[38;5;28;01mdef\u001b[39;00m \u001b[38;5;21m_fit\u001b[39m(\u001b[38;5;28mself\u001b[39m, dataset: DataFrame) \u001b[38;5;241m-\u001b[39m\u001b[38;5;241m>\u001b[39m JM:\n\u001b[0;32m--> 379\u001b[0m     java_model \u001b[38;5;241m=\u001b[39m \u001b[38;5;28;43mself\u001b[39;49m\u001b[38;5;241;43m.\u001b[39;49m\u001b[43m_fit_java\u001b[49m\u001b[43m(\u001b[49m\u001b[43mdataset\u001b[49m\u001b[43m)\u001b[49m\n\u001b[1;32m    380\u001b[0m     model \u001b[38;5;241m=\u001b[39m \u001b[38;5;28mself\u001b[39m\u001b[38;5;241m.\u001b[39m_create_model(java_model)\n\u001b[1;32m    381\u001b[0m     \u001b[38;5;28;01mreturn\u001b[39;00m \u001b[38;5;28mself\u001b[39m\u001b[38;5;241m.\u001b[39m_copyValues(model)\n",
      "File \u001b[0;32m/user_data/spark-3.3.0-bin-hadoop2/python/pyspark/ml/wrapper.py:376\u001b[0m, in \u001b[0;36mJavaEstimator._fit_java\u001b[0;34m(self, dataset)\u001b[0m\n\u001b[1;32m    373\u001b[0m \u001b[38;5;28;01massert\u001b[39;00m \u001b[38;5;28mself\u001b[39m\u001b[38;5;241m.\u001b[39m_java_obj \u001b[38;5;129;01mis\u001b[39;00m \u001b[38;5;129;01mnot\u001b[39;00m \u001b[38;5;28;01mNone\u001b[39;00m\n\u001b[1;32m    375\u001b[0m \u001b[38;5;28mself\u001b[39m\u001b[38;5;241m.\u001b[39m_transfer_params_to_java()\n\u001b[0;32m--> 376\u001b[0m \u001b[38;5;28;01mreturn\u001b[39;00m \u001b[38;5;28;43mself\u001b[39;49m\u001b[38;5;241;43m.\u001b[39;49m\u001b[43m_java_obj\u001b[49m\u001b[38;5;241;43m.\u001b[39;49m\u001b[43mfit\u001b[49m\u001b[43m(\u001b[49m\u001b[43mdataset\u001b[49m\u001b[38;5;241;43m.\u001b[39;49m\u001b[43m_jdf\u001b[49m\u001b[43m)\u001b[49m\n",
      "File \u001b[0;32mspark-3.3.0-bin-hadoop2/python/lib/py4j-0.10.9.5-src.zip/py4j/java_gateway.py:1321\u001b[0m, in \u001b[0;36mJavaMember.__call__\u001b[0;34m(self, *args)\u001b[0m\n\u001b[1;32m   1315\u001b[0m command \u001b[38;5;241m=\u001b[39m proto\u001b[38;5;241m.\u001b[39mCALL_COMMAND_NAME \u001b[38;5;241m+\u001b[39m\\\n\u001b[1;32m   1316\u001b[0m     \u001b[38;5;28mself\u001b[39m\u001b[38;5;241m.\u001b[39mcommand_header \u001b[38;5;241m+\u001b[39m\\\n\u001b[1;32m   1317\u001b[0m     args_command \u001b[38;5;241m+\u001b[39m\\\n\u001b[1;32m   1318\u001b[0m     proto\u001b[38;5;241m.\u001b[39mEND_COMMAND_PART\n\u001b[1;32m   1320\u001b[0m answer \u001b[38;5;241m=\u001b[39m \u001b[38;5;28mself\u001b[39m\u001b[38;5;241m.\u001b[39mgateway_client\u001b[38;5;241m.\u001b[39msend_command(command)\n\u001b[0;32m-> 1321\u001b[0m return_value \u001b[38;5;241m=\u001b[39m \u001b[43mget_return_value\u001b[49m\u001b[43m(\u001b[49m\n\u001b[1;32m   1322\u001b[0m \u001b[43m    \u001b[49m\u001b[43manswer\u001b[49m\u001b[43m,\u001b[49m\u001b[43m \u001b[49m\u001b[38;5;28;43mself\u001b[39;49m\u001b[38;5;241;43m.\u001b[39;49m\u001b[43mgateway_client\u001b[49m\u001b[43m,\u001b[49m\u001b[43m \u001b[49m\u001b[38;5;28;43mself\u001b[39;49m\u001b[38;5;241;43m.\u001b[39;49m\u001b[43mtarget_id\u001b[49m\u001b[43m,\u001b[49m\u001b[43m \u001b[49m\u001b[38;5;28;43mself\u001b[39;49m\u001b[38;5;241;43m.\u001b[39;49m\u001b[43mname\u001b[49m\u001b[43m)\u001b[49m\n\u001b[1;32m   1324\u001b[0m \u001b[38;5;28;01mfor\u001b[39;00m temp_arg \u001b[38;5;129;01min\u001b[39;00m temp_args:\n\u001b[1;32m   1325\u001b[0m     temp_arg\u001b[38;5;241m.\u001b[39m_detach()\n",
      "File \u001b[0;32m/user_data/spark-3.3.0-bin-hadoop2/python/pyspark/sql/utils.py:196\u001b[0m, in \u001b[0;36mcapture_sql_exception.<locals>.deco\u001b[0;34m(*a, **kw)\u001b[0m\n\u001b[1;32m    192\u001b[0m converted \u001b[38;5;241m=\u001b[39m convert_exception(e\u001b[38;5;241m.\u001b[39mjava_exception)\n\u001b[1;32m    193\u001b[0m \u001b[38;5;28;01mif\u001b[39;00m \u001b[38;5;129;01mnot\u001b[39;00m \u001b[38;5;28misinstance\u001b[39m(converted, UnknownException):\n\u001b[1;32m    194\u001b[0m     \u001b[38;5;66;03m# Hide where the exception came from that shows a non-Pythonic\u001b[39;00m\n\u001b[1;32m    195\u001b[0m     \u001b[38;5;66;03m# JVM exception message.\u001b[39;00m\n\u001b[0;32m--> 196\u001b[0m     \u001b[38;5;28;01mraise\u001b[39;00m converted \u001b[38;5;28;01mfrom\u001b[39;00m \u001b[38;5;28;01mNone\u001b[39;00m\n\u001b[1;32m    197\u001b[0m \u001b[38;5;28;01melse\u001b[39;00m:\n\u001b[1;32m    198\u001b[0m     \u001b[38;5;28;01mraise\u001b[39;00m\n",
      "\u001b[0;31mIllegalArgumentException\u001b[0m: requirement failed: Classifier inferred 16870 from label values in column RandomForestClassifier_f88be10b29b2__labelCol, but this exceeded the max numClasses (100) allowed to be inferred from values.  To avoid this error for labels with > 100 classes, specify numClasses explicitly in the metadata; this can be done by applying StringIndexer to the label column."
     ]
    }
   ],
   "source": [
    "rf_classifier = RandomForestClassifier(labelCol=target, featuresCol=\"features\", numTrees=10)\n",
    "pipeline = Pipeline(stages=[rf_classifier])\n",
    "model = pipeline.fit(train_data)\n",
    "predictions = model.transform(test_data)\n",
    "evaluator = MulticlassClassificationEvaluator(labelCol=\"OriginAirportID\", metricName=\"accuracy\")\n",
    "accuracy = evaluator.evaluate(predictions)\n",
    "print(\"Accuracy:\", accuracy)\n"
   ]
  },
  {
   "cell_type": "code",
   "execution_count": null,
   "id": "3611a782-7042-47b6-828c-3ce78d8fe51b",
   "metadata": {},
   "outputs": [],
   "source": []
  }
 ],
 "metadata": {
  "kernelspec": {
   "display_name": "Python 3 (ipykernel)",
   "language": "python",
   "name": "python3"
  },
  "language_info": {
   "codemirror_mode": {
    "name": "ipython",
    "version": 3
   },
   "file_extension": ".py",
   "mimetype": "text/x-python",
   "name": "python",
   "nbconvert_exporter": "python",
   "pygments_lexer": "ipython3",
   "version": "3.9.2"
  }
 },
 "nbformat": 4,
 "nbformat_minor": 5
}
